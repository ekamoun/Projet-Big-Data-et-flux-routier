{
 "cells": [
  {
   "cell_type": "code",
   "execution_count": null,
   "metadata": {},
   "outputs": [],
   "source": [
    "import pandas as pd\n",
    "import numpy as np\n",
    "import matplotlib as plt\n",
    "\n",
    "df = pd.read_csv(\"caracteristiques.csv\", sep = \";\", encoding='latin-1') #Reading the dataset in a dataframe using Pandas\n",
    "df.head(10)"
   ]
  },
  {
   "cell_type": "code",
   "execution_count": null,
   "metadata": {},
   "outputs": [],
   "source": [
    "df=df.dropna(how = 'any')\n",
    "df = df.drop(df[df.long==0].index)\n",
    "df.to_csv('cara_supp', sep=';', encoding='utf-8')"
   ]
  },
  {
   "cell_type": "markdown",
   "metadata": {},
   "source": [
    "Département 45 et choix des dates"
   ]
  },
  {
   "cell_type": "code",
   "execution_count": null,
   "metadata": {},
   "outputs": [],
   "source": [
    "df_45=df.loc[df['dep'] ==450]\n"
   ]
  },
  {
   "cell_type": "code",
   "execution_count": null,
   "metadata": {},
   "outputs": [],
   "source": [
    "df_45_an=df_45.loc[df['an']==16]\n",
    "df_45_mois=df_45_an.loc[df['mois'].isin([3])]\n",
    "df_45_jour=df_45_mois.loc[df['jour'].isin([x for x in range(1, 3)])]\n",
    "#df_45_jour=df_45_mois.loc[df['jour'].isin([x for x in range(1,2)])]\n",
    "df_45_an.count()/366\n"
   ]
  },
  {
   "cell_type": "code",
   "execution_count": null,
   "metadata": {},
   "outputs": [],
   "source": [
    "df2=df.groupby(df['dep'])['Num_Acc','adr','lat'].count()\n",
    "df2.loc[450,:]    "
   ]
  },
  {
   "cell_type": "code",
   "execution_count": null,
   "metadata": {},
   "outputs": [],
   "source": [
    "col = df2.apply ( lambda x: (x/12)*100000 2, axis = 1 ) \n",
    "df [\"new_column\"] = col"
   ]
  },
  {
   "cell_type": "code",
   "execution_count": null,
   "metadata": {},
   "outputs": [],
   "source": [
    "df2.sort_values(by='Num_Acc',ascending=False)"
   ]
  },
  {
   "cell_type": "code",
   "execution_count": null,
   "metadata": {
    "scrolled": true
   },
   "outputs": [],
   "source": [
    "df2.loc[480,:]"
   ]
  },
  {
   "cell_type": "code",
   "execution_count": null,
   "metadata": {},
   "outputs": [],
   "source": [
    "df2.loc[201,:]"
   ]
  },
  {
   "cell_type": "code",
   "execution_count": null,
   "metadata": {},
   "outputs": [],
   "source": [
    "df2.loc[202,:]"
   ]
  },
  {
   "cell_type": "code",
   "execution_count": null,
   "metadata": {},
   "outputs": [],
   "source": [
    "df2.loc[30,:]"
   ]
  },
  {
   "cell_type": "markdown",
   "metadata": {},
   "source": [
    "Histogrammes du nombre d'accidents de chaque gravité"
   ]
  },
  {
   "cell_type": "code",
   "execution_count": null,
   "metadata": {},
   "outputs": [],
   "source": [
    "df_usagers = pd.read_csv(\"usag11.csv\", sep = \";\", encoding='latin-1') #Reading the dataset in a dataframe using Pandas\n",
    "df_usagers.head(10)"
   ]
  },
  {
   "cell_type": "code",
   "execution_count": null,
   "metadata": {},
   "outputs": [],
   "source": [
    "df3=df_usagers.groupby(['grav','an'])['Num_Acc','sexe'].count()\n",
    "\n",
    "df3"
   ]
  },
  {
   "cell_type": "code",
   "execution_count": null,
   "metadata": {},
   "outputs": [],
   "source": [
    "df3.iloc[:12].loc[:,'Num_Acc']"
   ]
  },
  {
   "cell_type": "code",
   "execution_count": null,
   "metadata": {},
   "outputs": [],
   "source": [
    "import matplotlib.pyplot as plt\n",
    "\n",
    "plt.plot([2005,2006,2007,2008,2009,2010,2011,2012,2013,2014,2015,2016],df3.iloc[:12].loc[:,'Num_Acc'] , color='black')\n",
    "plt.ylabel('Nombre d\\'accidents')\n",
    "plt.xlabel('Année')\n",
    "plt.title('Évolution du nombre de personnes indemnes',fontweight='bold')\n",
    "plt.show()"
   ]
  },
  {
   "cell_type": "code",
   "execution_count": null,
   "metadata": {},
   "outputs": [],
   "source": [
    "df3.iloc[12:24].loc[:,'Num_Acc']"
   ]
  },
  {
   "cell_type": "code",
   "execution_count": null,
   "metadata": {},
   "outputs": [],
   "source": [
    "\n",
    "plt.plot([2005,2006,2007,2008,2009,2010,2011,2012,2013,2014,2015,2016],df3.iloc[12:24].loc[:,'Num_Acc'] , color='red')\n",
    "plt.ylabel('Nombre d\\'accidents')\n",
    "plt.xlabel('Année')\n",
    "plt.title('Évolution du nombre de personnes tuées',fontweight='bold')\n",
    "plt.show()"
   ]
  },
  {
   "cell_type": "code",
   "execution_count": null,
   "metadata": {},
   "outputs": [],
   "source": [
    "plt.plot([2005,2006,2007,2008,2009,2010,2011,2012,2013,2014,2015,2016],df3.iloc[24:36].loc[:,'Num_Acc'] , color='green')\n",
    "plt.ylabel('Nombre d\\'accidents')\n",
    "plt.xlabel('Année')\n",
    "plt.title('Évolution du nombre de blessés hospitalisés',fontweight='bold')\n",
    "plt.show()"
   ]
  },
  {
   "cell_type": "code",
   "execution_count": null,
   "metadata": {},
   "outputs": [],
   "source": [
    "plt.plot([2005,2006,2007,2008,2009,2010,2011,2012,2013,2014,2015,2016],df3.iloc[36:48].loc[:,'Num_Acc'] , color='blue')\n",
    "plt.ylabel('Nombre d\\'accidents')\n",
    "plt.xlabel('Année')\n",
    "plt.title('Évolution du nombre de blessés légers',fontweight='bold')\n",
    "plt.show()"
   ]
  },
  {
   "cell_type": "code",
   "execution_count": null,
   "metadata": {},
   "outputs": [],
   "source": []
  }
 ],
 "metadata": {
  "kernelspec": {
   "display_name": "Python 3",
   "language": "python",
   "name": "python3"
  },
  "language_info": {
   "codemirror_mode": {
    "name": "ipython",
    "version": 3
   },
   "file_extension": ".py",
   "mimetype": "text/x-python",
   "name": "python",
   "nbconvert_exporter": "python",
   "pygments_lexer": "ipython3",
   "version": "3.6.4"
  }
 },
 "nbformat": 4,
 "nbformat_minor": 2
}
