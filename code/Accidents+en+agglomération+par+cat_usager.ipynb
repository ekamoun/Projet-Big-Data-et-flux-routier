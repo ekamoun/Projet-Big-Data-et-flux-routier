{
 "cells": [
  {
   "cell_type": "code",
   "execution_count": 1,
   "metadata": {
    "collapsed": false
   },
   "outputs": [
    {
     "name": "stderr",
     "output_type": "stream",
     "text": [
      "C:\\Users\\fa56892\\AppData\\Local\\Continuum\\Anaconda3\\lib\\site-packages\\IPython\\core\\interactiveshell.py:2717: DtypeWarning: Columns (10) have mixed types. Specify dtype option on import or set low_memory=False.\n",
      "  interactivity=interactivity, compiler=compiler, result=result)\n"
     ]
    },
    {
     "data": {
      "image/png": "[encoded data removed]",
      "text/plain": [
       "<matplotlib.figure.Figure at 0x1dc36668>"
      ]
     },
     "metadata": {},
     "output_type": "display_data"
    },
    {
     "name": "stdout",
     "output_type": "stream",
     "text": [
      "4840\n",
      "7027\n"
     ]
    }
   ],
   "source": [
    "import os\n",
    "import pandas as pd\n",
    "import matplotlib.pyplot as plt\n",
    "import numpy as np\n",
    "#import matplotlib.pyplot as plt1\n",
    "\n",
    "name = \"C:\\\\Users\\\\fa56892\\\\Desktop\\\\us\"\n",
    "k=0\n",
    "r=0\n",
    "j=0\n",
    "m=0\n",
    "l=0\n",
    "n=0\n",
    "L=['Hors agglomération', 'En agglomération']\n",
    "\n",
    "\n",
    "for f in os.listdir(name): \n",
    "    df = pd.read_csv(name+\"\\\\\"+f, sep = \";\")\n",
    "    \n",
    "for i in df.index :\n",
    "    if df.get_value(i, 'dep')==450 :\n",
    "        if df.get_value(i, 'agg')==1 :\n",
    "            if df.get_value(i, 'catu')==3 or df.get_value(i, 'catu')==4:      \n",
    "                r+=1  \n",
    "            if df.get_value(i, 'catu')==1 :      \n",
    "                j+=1\n",
    "            if df.get_value(i, 'catu')==2 :     \n",
    "                k+=1    \n",
    "                \n",
    "        if df.get_value(i, 'agg')==2 :\n",
    "            if df.get_value(i, 'catu')==3 or df.get_value(i, 'catu')==4:      \n",
    "                l+=1   \n",
    "            if df.get_value(i, 'catu')==1 :     \n",
    "                m+=1\n",
    "            if df.get_value(i, 'catu')==2 :     \n",
    "                n+=1      \n",
    "\n",
    "L3=[[j,k,r],[m,n,l]]\n",
    "\n",
    "\n",
    "colors = ['green', 'orange', 'grey']\n",
    "Label = ['Conducteur', 'Passager', 'Piéton']\n",
    "\n",
    "def autolabel(rects):\n",
    "    \"\"\"\n",
    "    Attach a text label above each bar displaying its height\n",
    "    \"\"\"\n",
    "    for rect in rects:\n",
    "        height = rect.get_height()\n",
    "        k= int(height)\n",
    "        ax.text(rect.get_x() + rect.get_width()/2., 0.6*height,\n",
    "                '%s' % str(k),\n",
    "                ha='center', va='bottom')\n",
    "        \n",
    "y = zip(*L3)\n",
    "groups = len(L3)\n",
    "pos = np.arange(groups)\n",
    "width = 0.3\n",
    "\n",
    "fig, ax = plt.subplots()    \n",
    "for idx, (serie, color, Label) in enumerate(zip(y, colors, Label)):\n",
    "    rec=ax.bar(pos + idx * width, serie, width, color=color, label=Label)\n",
    "    autolabel(rec)\n",
    "\n",
    "ax.set_xticks(pos + 0.4*width)\n",
    "ax.set_xticklabels(L)\n",
    "\n",
    "plt.xlabel(\"Agglomération/Hors agglomération\")\n",
    "plt.ylabel(\"Nombre de victimes\")\n",
    "plt.title(\"Nombre d'accidents en agglomération/hors agglomération par catégorie d'usager\", fontweight = 'bold')\n",
    "plt.legend()\n",
    "plt.show()\n",
    "\n",
    "print(r+j+k)\n",
    "print(l+m+n)"
   ]
  },
  {
   "cell_type": "code",
   "execution_count": null,
   "metadata": {
    "collapsed": true
   },
   "outputs": [],
   "source": []
  }
 ],
 "metadata": {
  "kernelspec": {
   "display_name": "Python 3",
   "language": "python",
   "name": "python3"
  },
  "language_info": {
   "codemirror_mode": {
    "name": "ipython",
    "version": 3
   },
   "file_extension": ".py",
   "mimetype": "text/x-python",
   "name": "python",
   "nbconvert_exporter": "python",
   "pygments_lexer": "ipython3",
   "version": "3.6.0"
  }
 },
 "nbformat": 4,
 "nbformat_minor": 2
}
